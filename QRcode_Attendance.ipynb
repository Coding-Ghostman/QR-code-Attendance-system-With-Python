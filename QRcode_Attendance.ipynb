{
 "cells": [
  {
   "cell_type": "code",
   "execution_count": 1,
   "metadata": {},
   "outputs": [
    {
     "name": "stdout",
     "output_type": "stream",
     "text": [
      "['Atman Mishra 1NH20AI010', 'A. Vignesh Reddy 1NH20AI007', 'G. Sai Charan 1NH20AI031', 'A. Sharath Ram 1NH20AI001', 'Abhisekh Narisepalli Venkata Sai 1NH20AI002']\n"
     ]
    }
   ],
   "source": [
    "import pyqrcode\n",
    "import pandas as pd\n",
    "\n",
    "qr_data = []\n",
    "\n",
    "def createQRCode():\n",
    "    df = pd.read_csv(\"std_name.csv\")\n",
    "\n",
    "    for index, values in df.iterrows():\n",
    "        global qr_data\n",
    "        name = values[\"Name\"]\n",
    "        USN = values[\"USN\"]\n",
    "        data_code = f'''{name} {USN}'''\n",
    "        data = f'''\n",
    "\n",
    "        Name: {name} \\n\n",
    "        USN: {USN}\n",
    "        '''\n",
    "        image = pyqrcode.create(data_code)\n",
    "        image.png(f\"{name}_{USN}.png\", scale=\"2\")\n",
    "        qr_data.append(data_code)\n",
    "    df[\"QRdata\"] = qr_data\n",
    "    df.to_csv(\"Student_Data.csv\")\n",
    " \n",
    "createQRCode()\n",
    "print(qr_data)"
   ]
  },
  {
   "cell_type": "code",
   "execution_count": 2,
   "metadata": {
    "colab": {
     "base_uri": "https://localhost:8080/",
     "height": 520
    },
    "executionInfo": {
     "elapsed": 560,
     "status": "error",
     "timestamp": 1641039474089,
     "user": {
      "displayName": "Atman Mishra",
      "photoUrl": "https://lh3.googleusercontent.com/a-/AOh14GiZ7frZCA8n9XUft8IKDtvkNwYHke9fb0dLNfjG=s64",
      "userId": "01235285672556146478"
     },
     "user_tz": -330
    },
    "id": "c5uU8AMkkx1_",
    "outputId": "51329959-472d-49df-82bb-d011d38b724d"
   },
   "outputs": [
    {
     "name": "stdout",
     "output_type": "stream",
     "text": [
      "A. Vignesh Reddy 1NH20AI007\n"
     ]
    }
   ],
   "source": [
    "import cv2\n",
    "import numpy as np\n",
    "from pyzbar.pyzbar import decode\n",
    "import sys\n",
    "import pandas as pd\n",
    "import time\n",
    "import pybase64\n",
    "import pandas as pd\n",
    "from PIL import Image\n",
    "import requests\n",
    "import cv2\n",
    "import numpy as np\n",
    "import imutils\n",
    "from datetime import date\n",
    "\n",
    "q = decode(Image.open(\"A. Vignesh Reddy_1NH20AI007.png\"))\n",
    "for i in q:\n",
    "    print(i.data.decode(\"utf-8\"))\n",
    "    \n",
    "# cap=cv2.VideoCapture(0)\n",
    "\n",
    "# while True:\n",
    "#     _,frame=cap.read()\n",
    "#     cv2.imshow('Frame',frame)\n",
    "    \n",
    "#     if cv2.waitKey(1)& 0xFF==ord('s'):\n",
    "#         cv2.destroyAllWindows()\n",
    "#         break"
   ]
  },
  {
   "cell_type": "code",
   "execution_count": 3,
   "metadata": {},
   "outputs": [
    {
     "name": "stdout",
     "output_type": "stream",
     "text": [
      "['Atman Mishra 1NH20AI010', 'A. Vignesh Reddy 1NH20AI007', 'G. Sai Charan 1NH20AI031', 'A. Sharath Ram 1NH20AI001', 'Abhisekh Narisepalli Venkata Sai 1NH20AI002']\n"
     ]
    }
   ],
   "source": [
    "df = pd.read_csv(\"Student_Data.csv\")\n",
    "df.head()\n",
    "absent = qr_data.copy()\n",
    "print(absent)\n",
    "def checkQR(data):\n",
    "    data = str(data)\n",
    "    data = data.strip()\n",
    "    data = data.replace(\"b\", \"\")\n",
    "    data = data.replace(\"'\", \"\")\n",
    "    if data in qr_data:\n",
    "        print(data)\n",
    "        try:\n",
    "            absent.remove(data)\n",
    "        except:\n",
    "            print(\"Already Done\")"
   ]
  },
  {
   "cell_type": "code",
   "execution_count": 4,
   "metadata": {},
   "outputs": [
    {
     "name": "stdout",
     "output_type": "stream",
     "text": [
      "A. Sharath Ram 1NH20AI001\n",
      "A. Sharath Ram 1NH20AI001\n",
      "Already Done\n",
      "A. Vignesh Reddy 1NH20AI007\n",
      "A. Vignesh Reddy 1NH20AI007\n",
      "Already Done\n",
      "Atman Mishra 1NH20AI010\n",
      "Atman Mishra 1NH20AI010\n",
      "Already Done\n"
     ]
    }
   ],
   "source": [
    "# Replace the below URL with your own. Make sure to add \"/shot.jpg\" at last.\n",
    "url = \"http://192.168.43.243:8080/shot.jpg\"\n",
    "  \n",
    "# While loop to continuously fetching data from the camera of your phone\n",
    "while True:\n",
    "    img_resp = requests.get(url)\n",
    "    img_arr = np.array(bytearray(img_resp.content), dtype=np.uint8)\n",
    "    img = cv2.imdecode(img_arr, -1)\n",
    "    img = imutils.resize(img, width=1000, height=1800)\n",
    "    cv2.imshow(\"Android_cam\", img)\n",
    "    decode_object = decode(img)\n",
    "    for obj in decode_object:\n",
    "        checkQR(obj.data)\n",
    "        time.sleep(1)\n",
    "    # Press Esc key to exit\n",
    "    if cv2.waitKey(1) == 27:\n",
    "        break\n",
    "  \n",
    "cv2.destroyAllWindows()\n",
    "\n",
    "\n",
    "# For using your webcam\n",
    "# while True:\n",
    "#     _,frame=cap.read()\n",
    "#     decode_object=decode(frame)\n",
    "#     cv2.imshow('Frame',frame)\n",
    "#     for obj in decodeobject:\n",
    "#         checkQR(obj.data)\n",
    "#         time.sleep(1)   \n",
    "\n",
    "#     if cv2.waitKey(1)& 0xFF==ord('s'):\n",
    "#         cv2.destroyallWindows()\n",
    "#         break"
   ]
  },
  {
   "cell_type": "code",
   "execution_count": 6,
   "metadata": {},
   "outputs": [
    {
     "name": "stdout",
     "output_type": "stream",
     "text": [
      "['Atman Mishra 1NH20AI010', 'A. Vignesh Reddy 1NH20AI007', 'G. Sai Charan 1NH20AI031', 'A. Sharath Ram 1NH20AI001', 'Abhisekh Narisepalli Venkata Sai 1NH20AI002']\n",
      "['G. Sai Charan 1NH20AI031', 'Abhisekh Narisepalli Venkata Sai 1NH20AI002']\n",
      "['A. Vignesh Reddy 1NH20AI007', 'A. Sharath Ram 1NH20AI001', 'Atman Mishra 1NH20AI010']\n"
     ]
    }
   ],
   "source": [
    "present = list(set(qr_data)^set(absent))\n",
    "print(qr_data)\n",
    "print(absent)\n",
    "print(present)"
   ]
  },
  {
   "cell_type": "code",
   "execution_count": 7,
   "metadata": {},
   "outputs": [
    {
     "data": {
      "text/html": [
       "<div>\n",
       "<style scoped>\n",
       "    .dataframe tbody tr th:only-of-type {\n",
       "        vertical-align: middle;\n",
       "    }\n",
       "\n",
       "    .dataframe tbody tr th {\n",
       "        vertical-align: top;\n",
       "    }\n",
       "\n",
       "    .dataframe thead th {\n",
       "        text-align: right;\n",
       "    }\n",
       "</style>\n",
       "<table border=\"1\" class=\"dataframe\">\n",
       "  <thead>\n",
       "    <tr style=\"text-align: right;\">\n",
       "      <th></th>\n",
       "      <th>Unnamed: 0</th>\n",
       "      <th>Name</th>\n",
       "      <th>USN</th>\n",
       "      <th>QRdata</th>\n",
       "    </tr>\n",
       "  </thead>\n",
       "  <tbody>\n",
       "    <tr>\n",
       "      <th>0</th>\n",
       "      <td>0</td>\n",
       "      <td>Atman Mishra</td>\n",
       "      <td>1NH20AI010</td>\n",
       "      <td>Atman Mishra 1NH20AI010</td>\n",
       "    </tr>\n",
       "    <tr>\n",
       "      <th>1</th>\n",
       "      <td>1</td>\n",
       "      <td>A. Vignesh Reddy</td>\n",
       "      <td>1NH20AI007</td>\n",
       "      <td>A. Vignesh Reddy 1NH20AI007</td>\n",
       "    </tr>\n",
       "    <tr>\n",
       "      <th>2</th>\n",
       "      <td>2</td>\n",
       "      <td>G. Sai Charan</td>\n",
       "      <td>1NH20AI031</td>\n",
       "      <td>G. Sai Charan 1NH20AI031</td>\n",
       "    </tr>\n",
       "    <tr>\n",
       "      <th>3</th>\n",
       "      <td>3</td>\n",
       "      <td>A. Sharath Ram</td>\n",
       "      <td>1NH20AI001</td>\n",
       "      <td>A. Sharath Ram 1NH20AI001</td>\n",
       "    </tr>\n",
       "    <tr>\n",
       "      <th>4</th>\n",
       "      <td>4</td>\n",
       "      <td>Abhisekh Narisepalli Venkata Sai</td>\n",
       "      <td>1NH20AI002</td>\n",
       "      <td>Abhisekh Narisepalli Venkata Sai 1NH20AI002</td>\n",
       "    </tr>\n",
       "  </tbody>\n",
       "</table>\n",
       "</div>"
      ],
      "text/plain": [
       "   Unnamed: 0                              Name         USN  \\\n",
       "0           0                      Atman Mishra  1NH20AI010   \n",
       "1           1                  A. Vignesh Reddy  1NH20AI007   \n",
       "2           2                     G. Sai Charan  1NH20AI031   \n",
       "3           3                    A. Sharath Ram  1NH20AI001   \n",
       "4           4  Abhisekh Narisepalli Venkata Sai  1NH20AI002   \n",
       "\n",
       "                                        QRdata  \n",
       "0                      Atman Mishra 1NH20AI010  \n",
       "1                  A. Vignesh Reddy 1NH20AI007  \n",
       "2                     G. Sai Charan 1NH20AI031  \n",
       "3                    A. Sharath Ram 1NH20AI001  \n",
       "4  Abhisekh Narisepalli Venkata Sai 1NH20AI002  "
      ]
     },
     "execution_count": 7,
     "metadata": {},
     "output_type": "execute_result"
    }
   ],
   "source": [
    "df.head()"
   ]
  },
  {
   "cell_type": "code",
   "execution_count": 8,
   "metadata": {},
   "outputs": [
    {
     "data": {
      "text/plain": [
       "['G. Sai Charan 1NH20AI031', 'Abhisekh Narisepalli Venkata Sai 1NH20AI002']"
      ]
     },
     "execution_count": 8,
     "metadata": {},
     "output_type": "execute_result"
    }
   ],
   "source": [
    "absent"
   ]
  },
  {
   "cell_type": "code",
   "execution_count": 9,
   "metadata": {},
   "outputs": [
    {
     "data": {
      "text/html": [
       "<div>\n",
       "<style scoped>\n",
       "    .dataframe tbody tr th:only-of-type {\n",
       "        vertical-align: middle;\n",
       "    }\n",
       "\n",
       "    .dataframe tbody tr th {\n",
       "        vertical-align: top;\n",
       "    }\n",
       "\n",
       "    .dataframe thead th {\n",
       "        text-align: right;\n",
       "    }\n",
       "</style>\n",
       "<table border=\"1\" class=\"dataframe\">\n",
       "  <thead>\n",
       "    <tr style=\"text-align: right;\">\n",
       "      <th></th>\n",
       "      <th>Unnamed: 0</th>\n",
       "      <th>Name</th>\n",
       "      <th>USN</th>\n",
       "      <th>QRdata</th>\n",
       "      <th>2022-01-01</th>\n",
       "    </tr>\n",
       "  </thead>\n",
       "  <tbody>\n",
       "    <tr>\n",
       "      <th>0</th>\n",
       "      <td>0</td>\n",
       "      <td>Atman Mishra</td>\n",
       "      <td>1NH20AI010</td>\n",
       "      <td>Atman Mishra 1NH20AI010</td>\n",
       "      <td>1.0</td>\n",
       "    </tr>\n",
       "    <tr>\n",
       "      <th>1</th>\n",
       "      <td>1</td>\n",
       "      <td>A. Vignesh Reddy</td>\n",
       "      <td>1NH20AI007</td>\n",
       "      <td>A. Vignesh Reddy 1NH20AI007</td>\n",
       "      <td>1.0</td>\n",
       "    </tr>\n",
       "    <tr>\n",
       "      <th>2</th>\n",
       "      <td>2</td>\n",
       "      <td>G. Sai Charan</td>\n",
       "      <td>1NH20AI031</td>\n",
       "      <td>G. Sai Charan 1NH20AI031</td>\n",
       "      <td>0.0</td>\n",
       "    </tr>\n",
       "    <tr>\n",
       "      <th>3</th>\n",
       "      <td>3</td>\n",
       "      <td>A. Sharath Ram</td>\n",
       "      <td>1NH20AI001</td>\n",
       "      <td>A. Sharath Ram 1NH20AI001</td>\n",
       "      <td>1.0</td>\n",
       "    </tr>\n",
       "    <tr>\n",
       "      <th>4</th>\n",
       "      <td>4</td>\n",
       "      <td>Abhisekh Narisepalli Venkata Sai</td>\n",
       "      <td>1NH20AI002</td>\n",
       "      <td>Abhisekh Narisepalli Venkata Sai 1NH20AI002</td>\n",
       "      <td>0.0</td>\n",
       "    </tr>\n",
       "  </tbody>\n",
       "</table>\n",
       "</div>"
      ],
      "text/plain": [
       "   Unnamed: 0                              Name         USN  \\\n",
       "0           0                      Atman Mishra  1NH20AI010   \n",
       "1           1                  A. Vignesh Reddy  1NH20AI007   \n",
       "2           2                     G. Sai Charan  1NH20AI031   \n",
       "3           3                    A. Sharath Ram  1NH20AI001   \n",
       "4           4  Abhisekh Narisepalli Venkata Sai  1NH20AI002   \n",
       "\n",
       "                                        QRdata  2022-01-01  \n",
       "0                      Atman Mishra 1NH20AI010         1.0  \n",
       "1                  A. Vignesh Reddy 1NH20AI007         1.0  \n",
       "2                     G. Sai Charan 1NH20AI031         0.0  \n",
       "3                    A. Sharath Ram 1NH20AI001         1.0  \n",
       "4  Abhisekh Narisepalli Venkata Sai 1NH20AI002         0.0  "
      ]
     },
     "execution_count": 9,
     "metadata": {},
     "output_type": "execute_result"
    }
   ],
   "source": [
    "df.loc[df['QRdata'].isin(absent), date.today()] = 0\n",
    "df.loc[df['QRdata'].isin(present), date.today()] = 1\n",
    "df.head()"
   ]
  },
  {
   "cell_type": "code",
   "execution_count": null,
   "metadata": {},
   "outputs": [],
   "source": []
  }
 ],
 "metadata": {
  "colab": {
   "authorship_tag": "ABX9TyMNY0UgYTfUu41xRzE+/PBY",
   "collapsed_sections": [],
   "mount_file_id": "1jVE0BD6TV4c7M5lNzYKBXp7Lc4V9PNVI",
   "name": "QRcode_Attendance.ipynb",
   "provenance": []
  },
  "kernelspec": {
   "display_name": "Python 3",
   "language": "python",
   "name": "python3"
  },
  "language_info": {
   "codemirror_mode": {
    "name": "ipython",
    "version": 3
   },
   "file_extension": ".py",
   "mimetype": "text/x-python",
   "name": "python",
   "nbconvert_exporter": "python",
   "pygments_lexer": "ipython3",
   "version": "3.8.5"
  }
 },
 "nbformat": 4,
 "nbformat_minor": 1
}
