{
 "cells": [
  {
   "cell_type": "code",
   "execution_count": 1,
   "metadata": {},
   "outputs": [
    {
     "name": "stdout",
     "output_type": "stream",
     "text": [
      "                               Name         USN\n",
      "0                      Atman Mishra  1NH20AI010\n",
      "1                  A. Vignesh Reddy  1NH20AI007\n",
      "2                     G. Sai Charan  1NH20AI031\n",
      "3                    A. Sharath Ram  1NH20AI001\n",
      "4  Abhisekh Narisepalli Venkata Sai  1NH20AI002\n",
      "['Atman Mishra 1NH20AI010', 'A. Vignesh Reddy 1NH20AI007', 'G. Sai Charan 1NH20AI031', 'A. Sharath Ram 1NH20AI001', 'Abhisekh Narisepalli Venkata Sai 1NH20AI002']\n"
     ]
    }
   ],
   "source": [
    "import pyqrcode\n",
    "import cv2\n",
    "import numpy as np\n",
    "from pyzbar.pyzbar import decode\n",
    "import sys\n",
    "import pandas as pd\n",
    "import time\n",
    "import pybase64\n",
    "import pandas as pd\n",
    "from PIL import Image\n",
    "import requests\n",
    "import cv2\n",
    "import numpy as np\n",
    "import imutils\n",
    "from datetime import date\n",
    "from datetime import datetime\n",
    "\n",
    "qr_data = []\n",
    "df = pd.read_csv(\"std_name.csv\")\n",
    "def createQRCode():\n",
    "    for index, values in df.iterrows():\n",
    "        global qr_data\n",
    "        name = values[\"Name\"]\n",
    "        USN = values[\"USN\"]\n",
    "        data_code = f'''{name} {USN}'''\n",
    "        data = f'''\n",
    "        \n",
    "        Name: {name} \\n\n",
    "        USN: {USN}\n",
    "        \n",
    "        '''\n",
    "        image = pyqrcode.create(data_code)\n",
    "        image.png(f\"{name}_{USN}.png\", scale=\"10\")\n",
    "        qr_data.append(data_code)\n",
    "    df[\"QRdata\"] = qr_data\n",
    "    df.to_csv(\"Student_Data.csv\")\n",
    "print(df.head())\n",
    "createQRCode()\n",
    "print(qr_data)"
   ]
  },
  {
   "cell_type": "code",
   "execution_count": 2,
   "metadata": {
    "colab": {
     "base_uri": "https://localhost:8080/",
     "height": 520
    },
    "executionInfo": {
     "elapsed": 560,
     "status": "error",
     "timestamp": 1641039474089,
     "user": {
      "displayName": "Atman Mishra",
      "photoUrl": "https://lh3.googleusercontent.com/a-/AOh14GiZ7frZCA8n9XUft8IKDtvkNwYHke9fb0dLNfjG=s64",
      "userId": "01235285672556146478"
     },
     "user_tz": -330
    },
    "id": "c5uU8AMkkx1_",
    "outputId": "51329959-472d-49df-82bb-d011d38b724d"
   },
   "outputs": [],
   "source": [
    "# Run the program from here, If you are just updating the existing file\n",
    "# This will not change the QR_Code which is already genearted \n",
    "\n",
    "\n",
    "# import pyqrcode\n",
    "# import cv2\n",
    "# import numpy as np\n",
    "# from pyzbar.pyzbar import decode\n",
    "# import sys\n",
    "# import pandas as pd\n",
    "# import time\n",
    "# import pybase64\n",
    "# import pandas as pd\n",
    "# from PIL import Image\n",
    "# import requests\n",
    "# import cv2\n",
    "# import numpy as np\n",
    "# import imutils\n",
    "# from datetime import date\n",
    "\n",
    "\n",
    "# q = decode(Image.open(\"A. Vignesh Reddy_1NH20AI007.png\"))\n",
    "# for i in q:\n",
    "#     print(i.data.decode(\"utf-8\"))\n",
    "    \n",
    "cap=cv2.VideoCapture(0)"
   ]
  },
  {
   "cell_type": "code",
   "execution_count": 3,
   "metadata": {},
   "outputs": [
    {
     "data": {
      "text/html": [
       "<div>\n",
       "<style scoped>\n",
       "    .dataframe tbody tr th:only-of-type {\n",
       "        vertical-align: middle;\n",
       "    }\n",
       "\n",
       "    .dataframe tbody tr th {\n",
       "        vertical-align: top;\n",
       "    }\n",
       "\n",
       "    .dataframe thead th {\n",
       "        text-align: right;\n",
       "    }\n",
       "</style>\n",
       "<table border=\"1\" class=\"dataframe\">\n",
       "  <thead>\n",
       "    <tr style=\"text-align: right;\">\n",
       "      <th></th>\n",
       "      <th>Name</th>\n",
       "      <th>USN</th>\n",
       "      <th>QRdata</th>\n",
       "    </tr>\n",
       "  </thead>\n",
       "  <tbody>\n",
       "    <tr>\n",
       "      <th>0</th>\n",
       "      <td>Atman Mishra</td>\n",
       "      <td>1NH20AI010</td>\n",
       "      <td>Atman Mishra 1NH20AI010</td>\n",
       "    </tr>\n",
       "    <tr>\n",
       "      <th>1</th>\n",
       "      <td>A. Vignesh Reddy</td>\n",
       "      <td>1NH20AI007</td>\n",
       "      <td>A. Vignesh Reddy 1NH20AI007</td>\n",
       "    </tr>\n",
       "    <tr>\n",
       "      <th>2</th>\n",
       "      <td>G. Sai Charan</td>\n",
       "      <td>1NH20AI031</td>\n",
       "      <td>G. Sai Charan 1NH20AI031</td>\n",
       "    </tr>\n",
       "    <tr>\n",
       "      <th>3</th>\n",
       "      <td>A. Sharath Ram</td>\n",
       "      <td>1NH20AI001</td>\n",
       "      <td>A. Sharath Ram 1NH20AI001</td>\n",
       "    </tr>\n",
       "    <tr>\n",
       "      <th>4</th>\n",
       "      <td>Abhisekh Narisepalli Venkata Sai</td>\n",
       "      <td>1NH20AI002</td>\n",
       "      <td>Abhisekh Narisepalli Venkata Sai 1NH20AI002</td>\n",
       "    </tr>\n",
       "  </tbody>\n",
       "</table>\n",
       "</div>"
      ],
      "text/plain": [
       "                               Name         USN  \\\n",
       "0                      Atman Mishra  1NH20AI010   \n",
       "1                  A. Vignesh Reddy  1NH20AI007   \n",
       "2                     G. Sai Charan  1NH20AI031   \n",
       "3                    A. Sharath Ram  1NH20AI001   \n",
       "4  Abhisekh Narisepalli Venkata Sai  1NH20AI002   \n",
       "\n",
       "                                        QRdata  \n",
       "0                      Atman Mishra 1NH20AI010  \n",
       "1                  A. Vignesh Reddy 1NH20AI007  \n",
       "2                     G. Sai Charan 1NH20AI031  \n",
       "3                    A. Sharath Ram 1NH20AI001  \n",
       "4  Abhisekh Narisepalli Venkata Sai 1NH20AI002  "
      ]
     },
     "execution_count": 3,
     "metadata": {},
     "output_type": "execute_result"
    }
   ],
   "source": [
    "df.head()"
   ]
  },
  {
   "cell_type": "code",
   "execution_count": null,
   "metadata": {},
   "outputs": [],
   "source": []
  },
  {
   "cell_type": "code",
   "execution_count": 4,
   "metadata": {},
   "outputs": [],
   "source": [
    "df_StudentData = pd.read_csv(\"Student_Data.csv\")\n",
    "\n",
    "\n",
    "absent = list(df_StudentData[\"QRdata\"].copy())\n",
    "Student_QR = pd.Series(df_StudentData[\"QRdata\"])\n",
    "All_Student_QRdata = list(Student_QR)\n",
    "\n",
    "def checkQR(data):\n",
    "    data = str(data)\n",
    "    data = data.strip()\n",
    "    data = data.replace(\"b\", \"\")\n",
    "    data = data.replace(\"'\", \"\")\n",
    "    if data in Student_QR:\n",
    "        print(data)\n",
    "        try:\n",
    "            absent.remove(data)\n",
    "        except:\n",
    "            print(\"Already Done\")"
   ]
  },
  {
   "cell_type": "code",
   "execution_count": 5,
   "metadata": {},
   "outputs": [
    {
     "name": "stdout",
     "output_type": "stream",
     "text": [
      "['Atman Mishra 1NH20AI010', 'A. Vignesh Reddy 1NH20AI007', 'G. Sai Charan 1NH20AI031', 'A. Sharath Ram 1NH20AI001', 'Abhisekh Narisepalli Venkata Sai 1NH20AI002']\n",
      "['Atman Mishra 1NH20AI010', 'A. Vignesh Reddy 1NH20AI007', 'G. Sai Charan 1NH20AI031', 'A. Sharath Ram 1NH20AI001', 'Abhisekh Narisepalli Venkata Sai 1NH20AI002']\n"
     ]
    }
   ],
   "source": [
    "print(absent)\n",
    "print(All_Student_QRdata)"
   ]
  },
  {
   "cell_type": "code",
   "execution_count": 6,
   "metadata": {},
   "outputs": [
    {
     "data": {
      "text/html": [
       "<div>\n",
       "<style scoped>\n",
       "    .dataframe tbody tr th:only-of-type {\n",
       "        vertical-align: middle;\n",
       "    }\n",
       "\n",
       "    .dataframe tbody tr th {\n",
       "        vertical-align: top;\n",
       "    }\n",
       "\n",
       "    .dataframe thead th {\n",
       "        text-align: right;\n",
       "    }\n",
       "</style>\n",
       "<table border=\"1\" class=\"dataframe\">\n",
       "  <thead>\n",
       "    <tr style=\"text-align: right;\">\n",
       "      <th></th>\n",
       "      <th>Unnamed: 0</th>\n",
       "      <th>Name</th>\n",
       "      <th>USN</th>\n",
       "      <th>QRdata</th>\n",
       "    </tr>\n",
       "  </thead>\n",
       "  <tbody>\n",
       "    <tr>\n",
       "      <th>0</th>\n",
       "      <td>0</td>\n",
       "      <td>Atman Mishra</td>\n",
       "      <td>1NH20AI010</td>\n",
       "      <td>Atman Mishra 1NH20AI010</td>\n",
       "    </tr>\n",
       "    <tr>\n",
       "      <th>1</th>\n",
       "      <td>1</td>\n",
       "      <td>A. Vignesh Reddy</td>\n",
       "      <td>1NH20AI007</td>\n",
       "      <td>A. Vignesh Reddy 1NH20AI007</td>\n",
       "    </tr>\n",
       "    <tr>\n",
       "      <th>2</th>\n",
       "      <td>2</td>\n",
       "      <td>G. Sai Charan</td>\n",
       "      <td>1NH20AI031</td>\n",
       "      <td>G. Sai Charan 1NH20AI031</td>\n",
       "    </tr>\n",
       "    <tr>\n",
       "      <th>3</th>\n",
       "      <td>3</td>\n",
       "      <td>A. Sharath Ram</td>\n",
       "      <td>1NH20AI001</td>\n",
       "      <td>A. Sharath Ram 1NH20AI001</td>\n",
       "    </tr>\n",
       "    <tr>\n",
       "      <th>4</th>\n",
       "      <td>4</td>\n",
       "      <td>Abhisekh Narisepalli Venkata Sai</td>\n",
       "      <td>1NH20AI002</td>\n",
       "      <td>Abhisekh Narisepalli Venkata Sai 1NH20AI002</td>\n",
       "    </tr>\n",
       "  </tbody>\n",
       "</table>\n",
       "</div>"
      ],
      "text/plain": [
       "   Unnamed: 0                              Name         USN  \\\n",
       "0           0                      Atman Mishra  1NH20AI010   \n",
       "1           1                  A. Vignesh Reddy  1NH20AI007   \n",
       "2           2                     G. Sai Charan  1NH20AI031   \n",
       "3           3                    A. Sharath Ram  1NH20AI001   \n",
       "4           4  Abhisekh Narisepalli Venkata Sai  1NH20AI002   \n",
       "\n",
       "                                        QRdata  \n",
       "0                      Atman Mishra 1NH20AI010  \n",
       "1                  A. Vignesh Reddy 1NH20AI007  \n",
       "2                     G. Sai Charan 1NH20AI031  \n",
       "3                    A. Sharath Ram 1NH20AI001  \n",
       "4  Abhisekh Narisepalli Venkata Sai 1NH20AI002  "
      ]
     },
     "execution_count": 6,
     "metadata": {},
     "output_type": "execute_result"
    }
   ],
   "source": [
    "df_StudentData.head()"
   ]
  },
  {
   "cell_type": "code",
   "execution_count": null,
   "metadata": {
    "scrolled": false
   },
   "outputs": [],
   "source": [
    "# Replace the below URL with your own. Make sure to add \"/shot.jpg\" at last.\n",
    "url = \"http://192.168.43.23:8080/shot.jpg\"\n",
    "\n",
    "# While loop to continuously fetching data from the camera of your phone\n",
    "while True:\n",
    "    img_resp = requests.get(url)\n",
    "    img_arr = np.array(bytearray(img_resp.content), dtype=np.uint8)\n",
    "    img = cv2.imdecode(img_arr, -1)\n",
    "    img = imutils.resize(img, width=1000, height=1800)\n",
    "    cv2.imshow(\"Android_cam\", img)\n",
    "    decode_object = decode(img)\n",
    "    for obj in decode_object:\n",
    "        checkQR(obj.data)\n",
    "        time.sleep(1)\n",
    "    # Press Esc key to exit\n",
    "    if cv2.waitKey(1) == 27:\n",
    "        break\n",
    "  \n",
    "cv2.destroyAllWindows()\n",
    "\n",
    "\n",
    "# For using your webcam\n",
    "# while True:\n",
    "#     _,frame=cap.read()\n",
    "#     decode_object=decode(frame)\n",
    "#     cv2.imshow('Frame',frame)\n",
    "#     for obj in decode_object:\n",
    "#         checkQR(obj.data)\n",
    "#         time.sleep(1)   \n",
    "\n",
    "#     if cv2.waitKey(1)& 0xFF==ord('s'):\n",
    "#         cv2.destroyAllWindows()\n",
    "#         break"
   ]
  },
  {
   "cell_type": "code",
   "execution_count": 7,
   "metadata": {},
   "outputs": [
    {
     "name": "stdout",
     "output_type": "stream",
     "text": [
      "['Atman Mishra 1NH20AI010', 'A. Vignesh Reddy 1NH20AI007', 'G. Sai Charan 1NH20AI031', 'A. Sharath Ram 1NH20AI001', 'Abhisekh Narisepalli Venkata Sai 1NH20AI002']\n",
      "['Atman Mishra 1NH20AI010', 'A. Vignesh Reddy 1NH20AI007', 'G. Sai Charan 1NH20AI031', 'A. Sharath Ram 1NH20AI001', 'Abhisekh Narisepalli Venkata Sai 1NH20AI002']\n",
      "[]\n"
     ]
    }
   ],
   "source": [
    "present = list(set(qr_data)^set(absent))\n",
    "flag = 0\n",
    "print(All_Student_QRdata)\n",
    "print(absent)\n",
    "print(present)"
   ]
  },
  {
   "cell_type": "code",
   "execution_count": 8,
   "metadata": {
    "scrolled": false
   },
   "outputs": [
    {
     "data": {
      "text/html": [
       "<div>\n",
       "<style scoped>\n",
       "    .dataframe tbody tr th:only-of-type {\n",
       "        vertical-align: middle;\n",
       "    }\n",
       "\n",
       "    .dataframe tbody tr th {\n",
       "        vertical-align: top;\n",
       "    }\n",
       "\n",
       "    .dataframe thead th {\n",
       "        text-align: right;\n",
       "    }\n",
       "</style>\n",
       "<table border=\"1\" class=\"dataframe\">\n",
       "  <thead>\n",
       "    <tr style=\"text-align: right;\">\n",
       "      <th></th>\n",
       "      <th>Name</th>\n",
       "      <th>USN</th>\n",
       "      <th>QRdata</th>\n",
       "    </tr>\n",
       "  </thead>\n",
       "  <tbody>\n",
       "    <tr>\n",
       "      <th>0</th>\n",
       "      <td>Atman Mishra</td>\n",
       "      <td>1NH20AI010</td>\n",
       "      <td>Atman Mishra 1NH20AI010</td>\n",
       "    </tr>\n",
       "    <tr>\n",
       "      <th>1</th>\n",
       "      <td>A. Vignesh Reddy</td>\n",
       "      <td>1NH20AI007</td>\n",
       "      <td>A. Vignesh Reddy 1NH20AI007</td>\n",
       "    </tr>\n",
       "    <tr>\n",
       "      <th>2</th>\n",
       "      <td>G. Sai Charan</td>\n",
       "      <td>1NH20AI031</td>\n",
       "      <td>G. Sai Charan 1NH20AI031</td>\n",
       "    </tr>\n",
       "    <tr>\n",
       "      <th>3</th>\n",
       "      <td>A. Sharath Ram</td>\n",
       "      <td>1NH20AI001</td>\n",
       "      <td>A. Sharath Ram 1NH20AI001</td>\n",
       "    </tr>\n",
       "    <tr>\n",
       "      <th>4</th>\n",
       "      <td>Abhisekh Narisepalli Venkata Sai</td>\n",
       "      <td>1NH20AI002</td>\n",
       "      <td>Abhisekh Narisepalli Venkata Sai 1NH20AI002</td>\n",
       "    </tr>\n",
       "  </tbody>\n",
       "</table>\n",
       "</div>"
      ],
      "text/plain": [
       "                               Name         USN  \\\n",
       "0                      Atman Mishra  1NH20AI010   \n",
       "1                  A. Vignesh Reddy  1NH20AI007   \n",
       "2                     G. Sai Charan  1NH20AI031   \n",
       "3                    A. Sharath Ram  1NH20AI001   \n",
       "4  Abhisekh Narisepalli Venkata Sai  1NH20AI002   \n",
       "\n",
       "                                        QRdata  \n",
       "0                      Atman Mishra 1NH20AI010  \n",
       "1                  A. Vignesh Reddy 1NH20AI007  \n",
       "2                     G. Sai Charan 1NH20AI031  \n",
       "3                    A. Sharath Ram 1NH20AI001  \n",
       "4  Abhisekh Narisepalli Venkata Sai 1NH20AI002  "
      ]
     },
     "execution_count": 8,
     "metadata": {},
     "output_type": "execute_result"
    }
   ],
   "source": [
    "df.head()"
   ]
  },
  {
   "cell_type": "code",
   "execution_count": 9,
   "metadata": {},
   "outputs": [
    {
     "name": "stdout",
     "output_type": "stream",
     "text": [
      "2022-01-05\n"
     ]
    }
   ],
   "source": [
    "absent\n",
    "print(date.today())"
   ]
  },
  {
   "cell_type": "code",
   "execution_count": 19,
   "metadata": {
    "scrolled": true
   },
   "outputs": [],
   "source": [
    "if flag == 0:\n",
    "    today_date = f'''{datetime.now()}'''\n",
    "    df_StudentData.loc[df['QRdata'].isin(absent), today_date] = \"Absent\"\n",
    "    df_StudentData.loc[df['QRdata'].isin(present), today_date] = \"Present\"\n",
    "#     df.drop(columns=df.columns[0], \n",
    "#         axis=1, \n",
    "#         inplace=True)\n",
    "    df_StudentData.to_csv(\"Student_Attendance.csv\", index = False)\n",
    "    flag = 1\n",
    "elif flag == 1:\n",
    "    today_date = f'''{datetime.now()}'''\n",
    "    df_Attendance = pd.read_csv(\"Student_Attendance.csv\")\n",
    "    df_Attendance.loc[df['QRdata'].isin(absent), today_date] = \"Absent\"\n",
    "    df_Attendance.loc[df['QRdata'].isin(present), today_date] = \"Present\"\n",
    "#     df.drop(columns=df.columns[0], \n",
    "#         axis=1, \n",
    "#         inplace=True)\n",
    "    df_Attendance.to_csv(\"Student_Attendance.csv\", index = False)\n",
    "    \n",
    "    "
   ]
  },
  {
   "cell_type": "code",
   "execution_count": 20,
   "metadata": {},
   "outputs": [
    {
     "data": {
      "text/plain": [
       "1"
      ]
     },
     "execution_count": 20,
     "metadata": {},
     "output_type": "execute_result"
    }
   ],
   "source": [
    "flag"
   ]
  },
  {
   "cell_type": "code",
   "execution_count": 21,
   "metadata": {},
   "outputs": [
    {
     "data": {
      "text/html": [
       "<div>\n",
       "<style scoped>\n",
       "    .dataframe tbody tr th:only-of-type {\n",
       "        vertical-align: middle;\n",
       "    }\n",
       "\n",
       "    .dataframe tbody tr th {\n",
       "        vertical-align: top;\n",
       "    }\n",
       "\n",
       "    .dataframe thead th {\n",
       "        text-align: right;\n",
       "    }\n",
       "</style>\n",
       "<table border=\"1\" class=\"dataframe\">\n",
       "  <thead>\n",
       "    <tr style=\"text-align: right;\">\n",
       "      <th></th>\n",
       "      <th>Unnamed: 0</th>\n",
       "      <th>Name</th>\n",
       "      <th>USN</th>\n",
       "      <th>QRdata</th>\n",
       "      <th>2022-01-05</th>\n",
       "      <th>2022-01-05 08:21:09.904825</th>\n",
       "      <th>2022-01-05 08:21:15.460200</th>\n",
       "      <th>2022-01-05 08:21:36.360423</th>\n",
       "    </tr>\n",
       "  </thead>\n",
       "  <tbody>\n",
       "    <tr>\n",
       "      <th>0</th>\n",
       "      <td>0</td>\n",
       "      <td>Atman Mishra</td>\n",
       "      <td>1NH20AI010</td>\n",
       "      <td>Atman Mishra 1NH20AI010</td>\n",
       "      <td>Absent</td>\n",
       "      <td>Absent</td>\n",
       "      <td>Absent</td>\n",
       "      <td>Absent</td>\n",
       "    </tr>\n",
       "    <tr>\n",
       "      <th>1</th>\n",
       "      <td>1</td>\n",
       "      <td>A. Vignesh Reddy</td>\n",
       "      <td>1NH20AI007</td>\n",
       "      <td>A. Vignesh Reddy 1NH20AI007</td>\n",
       "      <td>Absent</td>\n",
       "      <td>Absent</td>\n",
       "      <td>Absent</td>\n",
       "      <td>Absent</td>\n",
       "    </tr>\n",
       "    <tr>\n",
       "      <th>2</th>\n",
       "      <td>2</td>\n",
       "      <td>G. Sai Charan</td>\n",
       "      <td>1NH20AI031</td>\n",
       "      <td>G. Sai Charan 1NH20AI031</td>\n",
       "      <td>Absent</td>\n",
       "      <td>Absent</td>\n",
       "      <td>Absent</td>\n",
       "      <td>Absent</td>\n",
       "    </tr>\n",
       "    <tr>\n",
       "      <th>3</th>\n",
       "      <td>3</td>\n",
       "      <td>A. Sharath Ram</td>\n",
       "      <td>1NH20AI001</td>\n",
       "      <td>A. Sharath Ram 1NH20AI001</td>\n",
       "      <td>Absent</td>\n",
       "      <td>Absent</td>\n",
       "      <td>Absent</td>\n",
       "      <td>Absent</td>\n",
       "    </tr>\n",
       "    <tr>\n",
       "      <th>4</th>\n",
       "      <td>4</td>\n",
       "      <td>Abhisekh Narisepalli Venkata Sai</td>\n",
       "      <td>1NH20AI002</td>\n",
       "      <td>Abhisekh Narisepalli Venkata Sai 1NH20AI002</td>\n",
       "      <td>Absent</td>\n",
       "      <td>Absent</td>\n",
       "      <td>Absent</td>\n",
       "      <td>Absent</td>\n",
       "    </tr>\n",
       "  </tbody>\n",
       "</table>\n",
       "</div>"
      ],
      "text/plain": [
       "   Unnamed: 0                              Name         USN  \\\n",
       "0           0                      Atman Mishra  1NH20AI010   \n",
       "1           1                  A. Vignesh Reddy  1NH20AI007   \n",
       "2           2                     G. Sai Charan  1NH20AI031   \n",
       "3           3                    A. Sharath Ram  1NH20AI001   \n",
       "4           4  Abhisekh Narisepalli Venkata Sai  1NH20AI002   \n",
       "\n",
       "                                        QRdata 2022-01-05  \\\n",
       "0                      Atman Mishra 1NH20AI010     Absent   \n",
       "1                  A. Vignesh Reddy 1NH20AI007     Absent   \n",
       "2                     G. Sai Charan 1NH20AI031     Absent   \n",
       "3                    A. Sharath Ram 1NH20AI001     Absent   \n",
       "4  Abhisekh Narisepalli Venkata Sai 1NH20AI002     Absent   \n",
       "\n",
       "  2022-01-05 08:21:09.904825 2022-01-05 08:21:15.460200  \\\n",
       "0                     Absent                     Absent   \n",
       "1                     Absent                     Absent   \n",
       "2                     Absent                     Absent   \n",
       "3                     Absent                     Absent   \n",
       "4                     Absent                     Absent   \n",
       "\n",
       "  2022-01-05 08:21:36.360423  \n",
       "0                     Absent  \n",
       "1                     Absent  \n",
       "2                     Absent  \n",
       "3                     Absent  \n",
       "4                     Absent  "
      ]
     },
     "execution_count": 21,
     "metadata": {},
     "output_type": "execute_result"
    }
   ],
   "source": [
    "df_Attendance"
   ]
  },
  {
   "cell_type": "code",
   "execution_count": null,
   "metadata": {},
   "outputs": [],
   "source": []
  }
 ],
 "metadata": {
  "colab": {
   "authorship_tag": "ABX9TyMNY0UgYTfUu41xRzE+/PBY",
   "collapsed_sections": [],
   "mount_file_id": "1jVE0BD6TV4c7M5lNzYKBXp7Lc4V9PNVI",
   "name": "QRcode_Attendance.ipynb",
   "provenance": []
  },
  "kernelspec": {
   "display_name": "Python 3",
   "language": "python",
   "name": "python3"
  },
  "language_info": {
   "codemirror_mode": {
    "name": "ipython",
    "version": 3
   },
   "file_extension": ".py",
   "mimetype": "text/x-python",
   "name": "python",
   "nbconvert_exporter": "python",
   "pygments_lexer": "ipython3",
   "version": "3.8.5"
  }
 },
 "nbformat": 4,
 "nbformat_minor": 1
}
